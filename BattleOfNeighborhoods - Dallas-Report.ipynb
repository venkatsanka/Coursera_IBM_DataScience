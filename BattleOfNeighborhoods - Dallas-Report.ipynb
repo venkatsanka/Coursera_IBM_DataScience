{
 "cells": [
  {
   "cell_type": "markdown",
   "metadata": {},
   "source": [
    "# Battle of Neighborhoods"
   ]
  },
  {
   "cell_type": "markdown",
   "metadata": {},
   "source": [
    "## Dallas, Texas"
   ]
  },
  {
   "cell_type": "markdown",
   "metadata": {},
   "source": [
    "![](https://d1x7qj5rlh2e19.cloudfront.net/wp-content/uploads/2018/08/24140622/Texas_3_Dallas-copy.jpg)"
   ]
  },
  {
   "cell_type": "markdown",
   "metadata": {},
   "source": [
    "## Project Description:\n",
    "Whenever people move to any other place, they explore the place and try to fetch as much information as possible about it. It can be the neighborhood, locality, market, price of the place and many more factors including neighborhood analysis. This is can be termed as request for a search algorithm which usually returns the requested features such as population rate, school ratings, crime rates, weather conditions, recreational facilities etc. \n",
    "\n",
    "It would be beneficial and nice to have an application which could make easy by considering a comparative analysis between the neighborhood with provided factors.\n",
    "\n",
    "This project helps the end user or the stakeholder to achieve the results which will not only recommend but also saves a lot of time in manual search. This will indeed save the time and money of the user. \n",
    "\n",
    "This project can be used by the user at the time of rental apartment or buy house in a locality based on the distribution of various facilities available around the neighborhood. As an example, this project would compare 2 randomly picked neighborhoods and analyses the top 10 most common venues in each of those two neighborhoods based on the number of visits by people in each of those places. Also, this project uses K-mean clustering unsupervised machine learning algorithm to cluster the venues based on the place category such as restaurants, park, coffee shop, gym, clubs etc. This would give a better understanding of the similarities and dissimilarities between the two chosen neighborhoods to retrieve more insights and to conclude with ease which neighborhood wins over other.\n",
    "\n"
   ]
  },
  {
   "cell_type": "markdown",
   "metadata": {},
   "source": [
    "## Data Sets and APIs:\n",
    "• Foursquare API:\n",
    "This API has a database of more than 105 million places. This project would use Four-square API as its prime data gathering source. \n",
    "Many organizations are using to geo-tag their photos with detailed info about a destination, while also serving up contextually \n",
    "relevant locations for those who are searching for a place to eat, drink or explore. This API provides the ability to perform location search,\n",
    "location sharing and details about a business. Foursquare users can also use photos, tips and reviews in many productive ways to add value to the\n",
    "results"
   ]
  },
  {
   "cell_type": "code",
   "execution_count": 80,
   "metadata": {},
   "outputs": [
    {
     "data": {
      "text/html": [
       "<div>\n",
       "<style scoped>\n",
       "    .dataframe tbody tr th:only-of-type {\n",
       "        vertical-align: middle;\n",
       "    }\n",
       "\n",
       "    .dataframe tbody tr th {\n",
       "        vertical-align: top;\n",
       "    }\n",
       "\n",
       "    .dataframe thead th {\n",
       "        text-align: right;\n",
       "    }\n",
       "</style>\n",
       "<table border=\"1\" class=\"dataframe\">\n",
       "  <thead>\n",
       "    <tr style=\"text-align: right;\">\n",
       "      <th></th>\n",
       "      <th>PostalCode</th>\n",
       "      <th>Neighborhood</th>\n",
       "      <th>Latitude</th>\n",
       "      <th>Longitude</th>\n",
       "      <th>Cluster Labels</th>\n",
       "    </tr>\n",
       "  </thead>\n",
       "  <tbody>\n",
       "    <tr>\n",
       "      <th>0</th>\n",
       "      <td>75001</td>\n",
       "      <td>Addison</td>\n",
       "      <td>32.960047</td>\n",
       "      <td>-96.838522</td>\n",
       "      <td>2</td>\n",
       "    </tr>\n",
       "    <tr>\n",
       "      <th>1</th>\n",
       "      <td>75006</td>\n",
       "      <td>Carrollton</td>\n",
       "      <td>32.962141</td>\n",
       "      <td>-96.898585</td>\n",
       "      <td>2</td>\n",
       "    </tr>\n",
       "    <tr>\n",
       "      <th>2</th>\n",
       "      <td>75019</td>\n",
       "      <td>Coppell</td>\n",
       "      <td>32.963417</td>\n",
       "      <td>-96.984664</td>\n",
       "      <td>2</td>\n",
       "    </tr>\n",
       "    <tr>\n",
       "      <th>3</th>\n",
       "      <td>75040</td>\n",
       "      <td>Garland</td>\n",
       "      <td>32.928902</td>\n",
       "      <td>-96.619782</td>\n",
       "      <td>2</td>\n",
       "    </tr>\n",
       "    <tr>\n",
       "      <th>4</th>\n",
       "      <td>75048</td>\n",
       "      <td>Sachse</td>\n",
       "      <td>32.968973</td>\n",
       "      <td>-96.580671</td>\n",
       "      <td>2</td>\n",
       "    </tr>\n",
       "  </tbody>\n",
       "</table>\n",
       "</div>"
      ],
      "text/plain": [
       "   PostalCode Neighborhood   Latitude  Longitude  Cluster Labels\n",
       "0       75001      Addison  32.960047 -96.838522               2\n",
       "1       75006   Carrollton  32.962141 -96.898585               2\n",
       "2       75019      Coppell  32.963417 -96.984664               2\n",
       "3       75040      Garland  32.928902 -96.619782               2\n",
       "4       75048       Sachse  32.968973 -96.580671               2"
      ]
     },
     "execution_count": 80,
     "metadata": {},
     "output_type": "execute_result"
    }
   ],
   "source": []
  },
  {
   "cell_type": "markdown",
   "metadata": {},
   "source": [
    "## • Work Flow:\n",
    "HTTP requests would be made to this Foursquare API server using zip codes of the Chicago city neighborhoods to pull the location information (Latitude and Longitude).Foursquare API search feature would be enabled to collect the nearby places of the neighborhoods. Due to http request limitations the number of places per neighborhood parameter would reasonably be set to 100 and the radius parameter would be set to 900."
   ]
  },
  {
   "cell_type": "code",
   "execution_count": 81,
   "metadata": {},
   "outputs": [
    {
     "data": {
      "text/html": [
       "<div>\n",
       "<style scoped>\n",
       "    .dataframe tbody tr th:only-of-type {\n",
       "        vertical-align: middle;\n",
       "    }\n",
       "\n",
       "    .dataframe tbody tr th {\n",
       "        vertical-align: top;\n",
       "    }\n",
       "\n",
       "    .dataframe thead th {\n",
       "        text-align: right;\n",
       "    }\n",
       "</style>\n",
       "<table border=\"1\" class=\"dataframe\">\n",
       "  <thead>\n",
       "    <tr style=\"text-align: right;\">\n",
       "      <th></th>\n",
       "      <th>name</th>\n",
       "      <th>categories</th>\n",
       "      <th>lat</th>\n",
       "      <th>lng</th>\n",
       "    </tr>\n",
       "  </thead>\n",
       "  <tbody>\n",
       "    <tr>\n",
       "      <th>0</th>\n",
       "      <td>The Joule</td>\n",
       "      <td>Hotel</td>\n",
       "      <td>32.780558</td>\n",
       "      <td>-96.798247</td>\n",
       "    </tr>\n",
       "    <tr>\n",
       "      <th>1</th>\n",
       "      <td>Pioneer Plaza</td>\n",
       "      <td>Plaza</td>\n",
       "      <td>32.776616</td>\n",
       "      <td>-96.801539</td>\n",
       "    </tr>\n",
       "    <tr>\n",
       "      <th>2</th>\n",
       "      <td>Weekend</td>\n",
       "      <td>Coffee Shop</td>\n",
       "      <td>32.780309</td>\n",
       "      <td>-96.798191</td>\n",
       "    </tr>\n",
       "    <tr>\n",
       "      <th>3</th>\n",
       "      <td>AT&amp;T Store</td>\n",
       "      <td>Mobile Phone Shop</td>\n",
       "      <td>32.779447</td>\n",
       "      <td>-96.799028</td>\n",
       "    </tr>\n",
       "    <tr>\n",
       "      <th>4</th>\n",
       "      <td>Spice in the City</td>\n",
       "      <td>Indian Restaurant</td>\n",
       "      <td>32.780014</td>\n",
       "      <td>-96.797829</td>\n",
       "    </tr>\n",
       "  </tbody>\n",
       "</table>\n",
       "</div>"
      ],
      "text/plain": [
       "                name         categories        lat        lng\n",
       "0          The Joule              Hotel  32.780558 -96.798247\n",
       "1      Pioneer Plaza              Plaza  32.776616 -96.801539\n",
       "2            Weekend        Coffee Shop  32.780309 -96.798191\n",
       "3         AT&T Store  Mobile Phone Shop  32.779447 -96.799028\n",
       "4  Spice in the City  Indian Restaurant  32.780014 -96.797829"
      ]
     },
     "execution_count": 81,
     "metadata": {},
     "output_type": "execute_result"
    }
   ],
   "source": []
  },
  {
   "cell_type": "markdown",
   "metadata": {},
   "source": [
    "• Folium- Python visualization library would be used to visualize the neighborhoods cluster distribution of Dallas city over an interactive leaflet map.Extensive comparative analysis of two randomly picked neighborhoods world be carried out to derive the desirable insights from the outcomes using python’s scientific libraries Pandas, NumPy and Scikit-learn.\n",
    "\n",
    "• Unsupervised machine learning algorithm K-mean clustering would be applied to form the clusters of different categories of places residing in and around the neighborhoods. These clusters from each of those two chosen neighborhoods would be analyzed individually collectively and comparatively to derive the conclusions."
   ]
  },
  {
   "cell_type": "markdown",
   "metadata": {},
   "source": [
    "### Python packages and Dependencies:\n",
    "• Pandas - Library for Data Analysis  \n",
    "• NumPy – Library to handle data in a vectorized manner \n",
    "• JSON – Library to handle JSON files  \n",
    "• Geopy – To retrieve Location Data  \n",
    "• Requests – Library to handle http requests \n",
    "• Matplotlib – Python Plotting Module  \n",
    "• Sklearn – Python machine learning Library  \n",
    "• Folium – Map rendering Library "
   ]
  },
  {
   "cell_type": "markdown",
   "metadata": {},
   "source": [
    "## Methodology"
   ]
  },
  {
   "cell_type": "markdown",
   "metadata": {},
   "source": [
    "###### Folium makes it easy to visualize data that’s been manipulated in Python on an interactive leaflet map. It enables both the binding of data to a map for choropleth visualizations as well as passing rich vector/raster/HTML visualizations as markers on the map"
   ]
  },
  {
   "cell_type": "markdown",
   "metadata": {},
   "source": [
    ". The workflow of the project starts with web scraping and data wrangling. Using the HTML library , the postal code and the neighborhood is processed to derive the latitude and longitude of the Dallas neighborhood.\n",
    " With the Folium Map the Latitude and Longitude of the Dallas neighborhood provides the Choropleth visualization"
   ]
  },
  {
   "cell_type": "markdown",
   "metadata": {},
   "source": [
    ". FourSquare API  and K means Clustering methods are used to retrieve the top trend venues of the Dallas Neighborhood\n",
    "\n",
    "Elbow Criterion method is used here the optimum number of cluster present in the dataset.\n",
    "Silhoutte Cofficient Analysis is also used to find the number of Cluster\n",
    "\n",
    "In this project , neighborhood and the populaton of different ethnicity has been considered to give an analysis of the two random\n",
    "neighborhoods of Dallas, Texas"
   ]
  },
  {
   "cell_type": "markdown",
   "metadata": {},
   "source": [
    "# Result:\n",
    "This Analysis concludes that the two places of Carallton,Garland both has great amenities and locality, but out of these two Garland has the higher number of Mexican population  around 80k ,also top 10 top venues shows Garland has the most common restaurants are Mexican restaurants.Carallton has got a good neighborhood with Korean restaurant, American Restaurant, Coffee shop, Pizza place and many more. Hence Both oCarallton and Garland has thier own advantages !! \n",
    "\n",
    "This study helps user to compare two neighborhood and recommend options with facts."
   ]
  },
  {
   "cell_type": "code",
   "execution_count": null,
   "metadata": {},
   "outputs": [],
   "source": []
  }
 ],
 "metadata": {
  "kernelspec": {
   "display_name": "Python 3",
   "language": "python",
   "name": "python3"
  },
  "language_info": {
   "codemirror_mode": {
    "name": "ipython",
    "version": 3
   },
   "file_extension": ".py",
   "mimetype": "text/x-python",
   "name": "python",
   "nbconvert_exporter": "python",
   "pygments_lexer": "ipython3",
   "version": "3.7.0"
  }
 },
 "nbformat": 4,
 "nbformat_minor": 2
}
