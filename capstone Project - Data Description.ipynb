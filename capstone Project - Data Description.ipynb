{
 "cells": [
  {
   "cell_type": "markdown",
   "metadata": {},
   "source": [
    "# Data Description"
   ]
  },
  {
   "cell_type": "markdown",
   "metadata": {},
   "source": [
    "## The following sources of data are used for this Capstone Project:\n",
    "\n",
    "Open Data published by a private business entity called Realtor.com    \n",
    "Type of data: Dataset in form of CSV file\n",
    "\n",
    "\n",
    "Description of the dataset: The data includes related information on resale flat prices across USA such as Flat type, \n",
    "    Street, Country, Median Listing price , Price increase , Area, etc…\n",
    "\n",
    "This dataset was downloaded and later hosted on IBM Watson Studio for ease of use.\n",
    "\n",
    "Source: https://www.realtor.com/research/data\n",
    "        \n",
    "        \n",
    "Foursquare location data\n",
    "Type of data: JSON\n",
    "\n",
    "\n",
    "Description of the data: Location coordinates obtained by Foursquare API calls.\n",
    "\n",
    "To determine the proximity of various amenities as per the buyer’s\n",
    "https://foursquare.com  \n",
    "\n",
    "\n",
    "Methodology \n",
    "\n",
    "Dataset can be used with the location data to find the best living area ,price and the vicinity.  \n",
    "\n",
    "\n",
    "Results\n",
    "we will be able to find out the Best Area or type of the location based on the need and price and depends on the multiple \n",
    "parameters of the customer or person.\n"
   ]
  },
  {
   "cell_type": "code",
   "execution_count": null,
   "metadata": {},
   "outputs": [],
   "source": []
  }
 ],
 "metadata": {
  "kernelspec": {
   "display_name": "Python 3",
   "language": "python",
   "name": "python3"
  },
  "language_info": {
   "codemirror_mode": {
    "name": "ipython",
    "version": 3
   },
   "file_extension": ".py",
   "mimetype": "text/x-python",
   "name": "python",
   "nbconvert_exporter": "python",
   "pygments_lexer": "ipython3",
   "version": "3.7.0"
  }
 },
 "nbformat": 4,
 "nbformat_minor": 2
}
