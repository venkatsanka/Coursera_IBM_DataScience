{
 "cells": [
  {
   "cell_type": "markdown",
   "metadata": {},
   "source": [
    "# Business Problem"
   ]
  },
  {
   "cell_type": "markdown",
   "metadata": {},
   "source": [
    "### America has always a major trade destination for international businesses and North America is considered the business’ gateway\n",
    "to Mutiple opportunities in Northern America. As a result, people from around the world, especially South East Asia,Mexico and Europe \n",
    "flock to USA with some of them aspiring to make this remarkable place a home of their own.\n",
    "\n",
    "With varying budgets and needs, people find it very hard to find a suitable place and neighborhood to accommodate them\n",
    "and their families. Due to high cost of living, many people have been struggling to find a suitable flat/house for themselves.\n",
    "\n",
    "With appropriate data coupled with data science techniques, one can derive the useful information about current pricing in different locations of Singapore while considering other factors of his/her choice such as: proximity to schools, medical care, restaurants. This would help the potential buyers make an informed decision about buying a suitable property.\n",
    "\n",
    "Target audience:\n",
    "\n",
    "Potential buyers look to buy suitable property in USA but are skeptical due to lack of knowledge and volatile market conditions.\n",
    "\n",
    "Stakeholders:\n",
    "\n",
    "1.Government of United states   \n",
    "2.Sellers       \n",
    "3.Buyers    \n",
    "4.Real estate agents"
   ]
  },
  {
   "cell_type": "code",
   "execution_count": null,
   "metadata": {},
   "outputs": [],
   "source": []
  },
  {
   "cell_type": "code",
   "execution_count": null,
   "metadata": {},
   "outputs": [],
   "source": []
  }
 ],
 "metadata": {
  "kernelspec": {
   "display_name": "Python 3",
   "language": "python",
   "name": "python3"
  },
  "language_info": {
   "codemirror_mode": {
    "name": "ipython",
    "version": 3
   },
   "file_extension": ".py",
   "mimetype": "text/x-python",
   "name": "python",
   "nbconvert_exporter": "python",
   "pygments_lexer": "ipython3",
   "version": "3.7.0"
  }
 },
 "nbformat": 4,
 "nbformat_minor": 2
}
